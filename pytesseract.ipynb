{
  "cells": [
    {
      "cell_type": "markdown",
      "metadata": {
        "id": "view-in-github",
        "colab_type": "text"
      },
      "source": [
        "<a href=\"https://colab.research.google.com/github/dhruvchopra2003/Newspaper_ocr/blob/master/pytesseract.ipynb\" target=\"_parent\"><img src=\"https://colab.research.google.com/assets/colab-badge.svg\" alt=\"Open In Colab\"/></a>"
      ]
    },
    {
      "cell_type": "markdown",
      "metadata": {
        "id": "WPByP9-_zf_K"
      },
      "source": [
        "# Installing dependancies"
      ]
    },
    {
      "cell_type": "code",
      "execution_count": null,
      "metadata": {
        "colab": {
          "base_uri": "https://localhost:8080/",
          "height": 1000
        },
        "id": "vH9yXBTRy-fm",
        "outputId": "c088e75f-794d-4a25-9a72-c9f168e2ea1c"
      },
      "outputs": [
        {
          "output_type": "stream",
          "name": "stderr",
          "text": [
            "Ultralytics YOLOv8.0.20 🚀 Python-3.10.12 torch-2.0.1+cu118 CPU\n",
            "Setup complete ✅ (2 CPUs, 12.7 GB RAM, 26.3/107.7 GB disk)\n"
          ]
        },
        {
          "output_type": "stream",
          "name": "stdout",
          "text": [
            "Mounted at /content/gdrive\n"
          ]
        }
      ],
      "source": [
        "from IPython import display\n",
        "\n",
        "!sudo apt install tesseract-ocr\n",
        "!pip install pytesseract\n",
        "!sudo apt-get install tesseract-ocr-hin\n",
        "\n",
        "display.clear_output()\n",
        "\n",
        "!pip install roboflow\n",
        "!pip install ultralytics==8.0.20\n",
        "display.clear_output()\n",
        "\n",
        "import ultralytics\n",
        "ultralytics.checks()\n",
        "\n",
        "from google.colab import drive\n",
        "drive.mount('/content/gdrive')"
      ]
    },
    {
      "cell_type": "code",
      "execution_count": null,
      "metadata": {
        "id": "il-y8Llw1NuB"
      },
      "outputs": [],
      "source": [
        "import pytesseract as ps\n",
        "import shutil\n",
        "import os\n",
        "import random\n",
        "import cv2\n",
        "from PIL import Image\n",
        "import numpy as np\n",
        "from PIL import Image, ImageDraw\n",
        "from roboflow import Roboflow\n",
        "from ultralytics import YOLO\n",
        "from os import listdir"
      ]
    },
    {
      "cell_type": "markdown",
      "metadata": {
        "id": "D3seDlOwzba3"
      },
      "source": [
        "# Training the model"
      ]
    },
    {
      "cell_type": "markdown",
      "metadata": {
        "id": "6JOThfXC0O8b"
      },
      "source": [
        "## Importing the data\n",
        "Only for when we need to train a new model"
      ]
    },
    {
      "cell_type": "code",
      "execution_count": null,
      "metadata": {
        "colab": {
          "base_uri": "https://localhost:8080/"
        },
        "id": "Ra9cbpJGVz72",
        "outputId": "50334662-6a10-4084-f2ae-d226bd70fab6"
      },
      "outputs": [
        {
          "output_type": "stream",
          "name": "stdout",
          "text": [
            "loading Roboflow workspace...\n",
            "loading Roboflow project...\n",
            "Dependency ultralytics==8.0.134 is required but found version=8.0.20, to fix: `pip install ultralytics==8.0.134`\n",
            "Downloading Dataset Version Zip in newspaper-1 to yolov8: 100% [14766223 / 14766223] bytes\n"
          ]
        },
        {
          "output_type": "stream",
          "name": "stderr",
          "text": [
            "Extracting Dataset Version Zip to newspaper-1 in yolov8:: 100%|██████████| 295/295 [00:00<00:00, 1732.27it/s]\n"
          ]
        }
      ],
      "source": [
        "from roboflow import Roboflow\n",
        "rf = Roboflow(api_key=\"qc1QSl8ZV1uoroE6bdlI\")\n",
        "project = rf.workspace(\"rscoe-m2bvv\").project(\"newspaper-8hwch\")\n",
        "dataset = project.version(1).download(\"yolov8\")"
      ]
    },
    {
      "cell_type": "code",
      "execution_count": null,
      "metadata": {
        "id": "T87MI931Jct6"
      },
      "outputs": [],
      "source": [
        "! yolo task=segment mode=train model=yolov8s.pt data=/content/gdrive/MyDrive/Impact_OCR/data.yaml epochs=50 batch=8 optimizer='Adam' lr0=3E-3 project=/content/gdrive/MyDrive/Impact_OCR/training_results"
      ]
    },
    {
      "cell_type": "markdown",
      "metadata": {
        "id": "UhWYKIsf7KQk"
      },
      "source": [
        "## Testing model working\n"
      ]
    },
    {
      "cell_type": "code",
      "execution_count": null,
      "metadata": {
        "id": "715zEJf_JiHb"
      },
      "outputs": [],
      "source": [
        "from ultralytics import YOLO\n",
        "model = YOLO(\"/content/gdrive/MyDrive/Impact_OCR/training_results/train5/weights/best.pt\")\n",
        "results = model.predict(source = \"/content/gdrive/MyDrive/Impact_OCR/datasets/valid/images\", save_txt=True, save=True, save_crop=True, hide_labels=True, line_thickness=1)"
      ]
    },
    {
      "cell_type": "code",
      "execution_count": null,
      "metadata": {
        "id": "QEVtE4e1JpI9"
      },
      "outputs": [],
      "source": [
        "# Copying the predict folder into the drive, for further analysis\n",
        "!cp -r /content/runs/detect/predict /content/gdrive/MyDrive/Impact_OCR/output/validation_results"
      ]
    },
    {
      "cell_type": "markdown",
      "metadata": {
        "id": "Zw_3SfTe7UxF"
      },
      "source": [
        "# Image Preprocessing steps"
      ]
    },
    {
      "cell_type": "code",
      "execution_count": null,
      "metadata": {
        "id": "0YOPb0ehmxri"
      },
      "outputs": [],
      "source": [
        "# Image Preprocessing Functions\n",
        "\n",
        "def erode(image):\n",
        "  # Creating a kernel\n",
        "  kernel = np.ones((5,5), np.uint8)\n",
        "  # Using openCV'2 erode\n",
        "  image_erode = cv2.erode(image, kernel)\n",
        "\n",
        "  # Saving and opening the file\n",
        "  filename = 'image_eroded.jpg'\n",
        "  cv2.imwrite(filename, image_erode)\n",
        "  return filename\n",
        "\n",
        "def dilate(image):\n",
        "  # kernel3 = np.ones((3,7), np.uint8)\n",
        "  kernel3 = np.ones((2,3), np.uint8)\n",
        "  image_dilation = cv2.dilate(image, kernel3, iterations=1)\n",
        "  filename = 'image_dilation.jpg'\n",
        "  # Saving the image\n",
        "  cv2.imwrite(filename, image_dilation)\n",
        "  return filename\n",
        "\n",
        "def log_transform(image):\n",
        "  # Apply log transform.\n",
        "  c = 255/(np.log(1 + np.max(image)))\n",
        "  log_transformed = c * np.log(1 + image)\n",
        "  # Specify the data type.\n",
        "  log_transformed = np.array(log_transformed, dtype = np.uint8)\n",
        "  filename = 'log_transformed.jpg'\n",
        "  cv2.imwrite('log_transformed.jpg', log_transformed)\n",
        "\n",
        "  return filename\n"
      ]
    },
    {
      "cell_type": "markdown",
      "metadata": {
        "id": "0ve_PM3czm6K"
      },
      "source": [
        "# Retrieving from the model"
      ]
    },
    {
      "cell_type": "code",
      "execution_count": null,
      "metadata": {
        "id": "SMAq7q6A1ua8"
      },
      "outputs": [],
      "source": [
        "def get_ocr(model, path):\n",
        "  model = YOLO(f\"/content/gdrive/MyDrive/Impact_OCR/training_results/{model}/weights/best.pt\")\n",
        "  results = model.predict(source = path,\n",
        "                          save_txt=True,\n",
        "                          save=True,\n",
        "                          save_crop=True,\n",
        "                          hide_labels=True,\n",
        "                          line_thickness=1)"
      ]
    },
    {
      "cell_type": "code",
      "execution_count": null,
      "metadata": {
        "colab": {
          "base_uri": "https://localhost:8080/"
        },
        "id": "sMCT31lj2p27",
        "outputId": "bf1a4daf-efd0-40ba-8985-751ca05a0675"
      },
      "outputs": [
        {
          "name": "stderr",
          "output_type": "stream",
          "text": [
            "Ultralytics YOLOv8.0.20 🚀 Python-3.10.12 torch-2.0.1+cu118 CPU\n",
            "Model summary (fused): 168 layers, 11126745 parameters, 0 gradients, 28.4 GFLOPs\n",
            "To copy construct from a tensor, it is recommended to use sourceTensor.clone().detach() or sourceTensor.clone().detach().requires_grad_(True), rather than torch.tensor(sourceTensor).\n",
            "Results saved to \u001b[1mruns/detect/predict3\u001b[0m\n",
            "1 label saved to runs/detect/predict3/labels\n"
          ]
        }
      ],
      "source": [
        "get_ocr(\"train3\", \"/content/test5.jpeg\")"
      ]
    },
    {
      "cell_type": "markdown",
      "metadata": {
        "id": "OFSk_BORzrs9"
      },
      "source": [
        "# Pipeline for the OCR"
      ]
    },
    {
      "cell_type": "markdown",
      "metadata": {
        "id": "pmfaEX-H7hLM"
      },
      "source": [
        "## OCR Pipeline"
      ]
    },
    {
      "cell_type": "code",
      "execution_count": null,
      "metadata": {
        "id": "kc9o12pw1jU7"
      },
      "outputs": [],
      "source": [
        "# OCR function\n",
        "def ocr_read(img_path):\n",
        "  # info = ps.image_to_string(Image.open(img_path), lang='hin')\n",
        "  info = ps.image_to_string(Image.open(img_path))\n",
        "  print(info)\n",
        "\n",
        "def get_boxes(img_path):\n",
        "  json_save = model.predict(img_path, confidence=40, overlap=30).json()\n",
        "  print(json_save)\n",
        "\n",
        "  articles = json_save['predictions'][0]\n",
        "  headlines = json_save['predictions'][1]\n",
        "\n",
        "  model.predict(img_path, confidence=40, overlap=30).save(\"prediction.jpg\")\n",
        "\n",
        "  # model.predict(\"URL_OF_YOUR_IMAGE\", hosted=True, confidence=40, overlap=30).json()\n",
        "\n",
        "  return articles, headlines\n",
        "\n",
        "def crop_img(img_path, result):\n",
        "  x1 = result['x'] - result['width'] / 2\n",
        "  x2 = result['x'] + result['width'] / 2\n",
        "  y1 = result['y'] - result['height'] / 2\n",
        "  y2 = result['y'] + result['height'] / 2\n",
        "\n",
        "  image = Image.open(img_path)\n",
        "  draw = ImageDraw.Draw(image)\n",
        "  draw.rectangle([x1, y1, x2, y2], outline='red', width=2)\n",
        "  image.save('image_with_bounding_box.jpg')\n",
        "\n",
        "# Cropping the image\n",
        "  cropped_region = image.crop((x1, y1, x2, y2))\n",
        "  cropped_region.save('cropped_region.jpg')\n",
        "\n",
        "\n",
        "def run_ocr(img_path):\n",
        "  # Getting the bounding box coordinates from the model\n",
        "  articles, headlines = get_boxes(img_path)\n",
        "\n",
        "  article_img = crop_img(img_path, articles)\n",
        "  article_text = ocr_read('cropped_region.jpg')\n",
        "\n",
        "  head_img = crop_img(img_path, headlines)\n",
        "  header_text = ocr_read('cropped_region.jpg')\n",
        "\n",
        "  return header_text, article_text"
      ]
    },
    {
      "cell_type": "markdown",
      "metadata": {
        "id": "NgDVJ7tP7kUS"
      },
      "source": [
        "# Testing"
      ]
    },
    {
      "cell_type": "code",
      "execution_count": null,
      "metadata": {
        "id": "xozdv_aFr8RB"
      },
      "outputs": [],
      "source": [
        "# OCR function\n",
        "def ocr_read(img_path):\n",
        "  # info = ps.image_to_string(Image.open(img_path), lang='hin')\n",
        "  info = ps.image_to_string(Image.open(img_path))\n",
        "  print(info)\n",
        "\n",
        "def get_headlines(img_path, i):\n",
        "  path = f'/content/runs/detect/predict{i}/crops/headlines'\n"
      ]
    },
    {
      "cell_type": "markdown",
      "metadata": {
        "id": "JhEfZxRRPavn"
      },
      "source": [
        "# Test pipeline 2"
      ]
    },
    {
      "cell_type": "code",
      "execution_count": null,
      "metadata": {
        "id": "AmdCIer9PlGd"
      },
      "outputs": [],
      "source": [
        "# Headline sub-branch\n",
        "\n",
        "def yolo_ocr(model, path):\n",
        "  model = YOLO(f\"/content/gdrive/MyDrive/Impact_OCR/training_results/{model}/weights/best.pt\")\n",
        "  results = model.predict(source = path,\n",
        "                          save_txt=True,\n",
        "                          save=True,\n",
        "                          save_crop=True,\n",
        "                          hide_labels=True,\n",
        "                          line_thickness=1)\n",
        "  # return results\n",
        "\n",
        "\n",
        "def tesseract_read(img_path):\n",
        "  # info = ps.image_to_string(Image.open(img_path), lang='hin')\n",
        "  info = ps.image_to_string(Image.open(img_path))\n",
        "  return info\n",
        "\n",
        "\n",
        "def read_header(header_path):\n",
        "  # header_without_extension = os.path.splitext(header_path)\n",
        "  header = tesseract_read(header_path)\n",
        "\n",
        "  header = header.replace('\\n',' ')\n",
        "  return header\n",
        "\n",
        "\n",
        "def read_article(img_path):\n",
        "  # without_extension = os.path.splitext(img_path)\n",
        "  article = tesseract_read(img_path)\n",
        "  article = article.replace(\"\\n\\n\", \"\\n\")\n",
        "  article = article.replace(\"-\\n\", \"\")\n",
        "  return article\n",
        "\n",
        "\n",
        "def save_content(name, content, he_bo):\n",
        "  \"\"\"\n",
        "    args:\n",
        "      name: name of the file to be saved as\n",
        "      content: Content to be put in the file\n",
        "      he_bo: specify if the file is a header or body\n",
        "    working:\n",
        "      The content is saved in a folder with the name of the image as specified\n",
        "      The folder contains two .txt files, -he of the header and -bo for the body\n",
        "  \"\"\"\n",
        "\n",
        "  file_path = \"/content/gdrive/MyDrive/Impact_OCR/output/test_images/\" + name\n",
        "  print(\"saving in \", file_path)\n",
        "  try:\n",
        "    os.mkdir(file_path)\n",
        "  except:\n",
        "    print(\"file found\")\n",
        "\n",
        "  file_name = f\"{he_bo}.txt\"\n",
        "  fi = file_path + '/' + file_name\n",
        "\n",
        "  with open(fi, \"w\") as file:\n",
        "    file.write(content)\n",
        "  print(f\"content printed to {name}/{he_bo}.txt\")\n",
        "\n",
        "\n",
        "def get_name(path):\n",
        "\n",
        "  image_name = os.path.basename(path)\n",
        "  return image_name\n",
        "\n",
        "\n",
        "def delete_runs_dir():\n",
        "  path = \"/content/runs\"\n",
        "  try:\n",
        "    shutil.rmtree(path)\n",
        "    # print(\"deleted\")\n",
        "  except:\n",
        "    print(\"Error occured while deleting runs\")\n",
        "\n",
        "\n",
        "def execute():\n",
        "  img_path = input(\"Enter path: \")\n",
        "  model = \"train3\"\n",
        "\n",
        "  image_name = get_name(img_path)\n",
        "\n",
        "  yolo_ocr(model, img_path)\n",
        "\n",
        "  # Extracting the headline image\n",
        "  headline = read_header(f\"/content/runs/detect/predict/crops/headlines/{image_name}\")\n",
        "  article_body = read_article(img_path)\n",
        "\n",
        "  # Deleting the runs directory\n",
        "  delete_runs_dir()\n",
        "\n",
        "  save_content(image_name[:-3], headline, \"headline\")\n",
        "  save_content(image_name[:-3], article_body, \"article\")\n",
        "\n",
        "  print(\"executed perfectly!\")"
      ]
    },
    {
      "cell_type": "code",
      "execution_count": null,
      "metadata": {
        "colab": {
          "base_uri": "https://localhost:8080/"
        },
        "id": "XANNelhgxigM",
        "outputId": "19a3e3f1-cbab-4046-f0f3-7341db9622bb"
      },
      "outputs": [
        {
          "name": "stdout",
          "output_type": "stream",
          "text": [
            "Enter path: /content/122-20230822-2-Times City_3.jpg\n"
          ]
        },
        {
          "output_type": "stream",
          "name": "stderr",
          "text": [
            "Ultralytics YOLOv8.0.20 🚀 Python-3.10.12 torch-2.0.1+cu118 CPU\n",
            "Model summary (fused): 168 layers, 11126745 parameters, 0 gradients, 28.4 GFLOPs\n",
            "To copy construct from a tensor, it is recommended to use sourceTensor.clone().detach() or sourceTensor.clone().detach().requires_grad_(True), rather than torch.tensor(sourceTensor).\n",
            "Results saved to \u001b[1mruns/detect/predict\u001b[0m\n",
            "1 label saved to runs/detect/predict/labels\n"
          ]
        },
        {
          "output_type": "stream",
          "name": "stdout",
          "text": [
            "saving in  /content/gdrive/MyDrive/Impact_OCR/output/test_images/122-20230822-2-Times City_3.\n",
            "content printed to 122-20230822-2-Times City_3./headline.txt\n",
            "saving in  /content/gdrive/MyDrive/Impact_OCR/output/test_images/122-20230822-2-Times City_3.\n",
            "file found\n",
            "content printed to 122-20230822-2-Times City_3./article.txt\n",
            "executed perfectly!\n"
          ]
        }
      ],
      "source": [
        "execute()"
      ]
    },
    {
      "cell_type": "code",
      "execution_count": null,
      "metadata": {
        "colab": {
          "base_uri": "https://localhost:8080/"
        },
        "id": "kVe23GHM8v8f",
        "outputId": "3df487f7-4502-4ae9-f1cb-fbd817109380"
      },
      "outputs": [
        {
          "name": "stdout",
          "output_type": "stream",
          "text": [
            "saving in  /content/gdrive/MyDrive/Impact_OCR/output/test_images/hel\n",
            "content printed to hel/header.txt\n"
          ]
        }
      ],
      "source": [
        "name = \"hello\"\n",
        "content = \"Test 1234556\"\n",
        "save_content(name[:-2], content, \"header\")"
      ]
    },
    {
      "cell_type": "code",
      "execution_count": null,
      "metadata": {
        "id": "q5-WhOFiJgg5"
      },
      "outputs": [],
      "source": [
        "import cv2\n",
        "import matplotlib.pyplot as plt\n",
        "\n",
        "# img_file = \"/content/122-20230822-2-Times City_1.jpg\"\n",
        "img_file = \"/content/122-20230822-2-Times City_3.jpg\"\n",
        "img = cv2.imread(img_file)\n",
        "\n",
        "def display(im_path):\n",
        "  dpi=80\n",
        "  im_data = plt.imread(im_path)\n",
        "  height, width, depth = im_data.shape\n",
        "\n",
        "  figsize = width/float(dpi), height/float(dpi)\n",
        "\n",
        "  fig = plt.figure(figsize=figsize)\n",
        "  ax = fig.add_axes([0,0,1,1])\n",
        "\n",
        "  ax.axis('off')\n",
        "  ax.imshow(im_data, cmap='gray')\n",
        "\n",
        "  plt.show()\n"
      ]
    },
    {
      "cell_type": "code",
      "execution_count": null,
      "metadata": {
        "colab": {
          "base_uri": "https://localhost:8080/"
        },
        "id": "0dkY3UF6eVo3",
        "outputId": "31cdf940-c2fa-4e30-ff85-c479042d51c3"
      },
      "outputs": [
        {
          "output_type": "execute_result",
          "data": {
            "text/plain": [
              "True"
            ]
          },
          "metadata": {},
          "execution_count": 25
        }
      ],
      "source": [
        "inverted_img = cv2.bitwise_not(img)\n",
        "cv2.imwrite(\"temp/inverted.jpg\", inverted_img)"
      ]
    },
    {
      "cell_type": "code",
      "execution_count": null,
      "metadata": {
        "id": "AumIdJxde42A"
      },
      "outputs": [],
      "source": [
        "display(\"temp/inverted.jpg\")"
      ]
    },
    {
      "cell_type": "markdown",
      "source": [
        "# Class OCRProcessor"
      ],
      "metadata": {
        "id": "e6WjACb2jf6T"
      }
    },
    {
      "cell_type": "code",
      "source": [
        "class OCRProcessor:\n",
        "    def __init__(self, model_path):\n",
        "        self.model = YOLO(model_path)\n",
        "\n",
        "    def yolo_ocr(self, img_path):\n",
        "        results = self.model.predict(\n",
        "            source=img_path,\n",
        "            save_txt=True,\n",
        "            save=True,\n",
        "            save_crop=True,\n",
        "            hide_labels=True,\n",
        "            # line_thickness=1\n",
        "        )\n",
        "        return results\n",
        "\n",
        "    def tesseract_read(self, img_path):\n",
        "        info = ps.image_to_string(Image.open(img_path))\n",
        "        return info\n",
        "\n",
        "class TextExtractor:\n",
        "    @staticmethod\n",
        "    def combine_sentences(sentence1, sentence2):\n",
        "      words1 = sentence1.split()\n",
        "      words2 = sentence2.split()\n",
        "\n",
        "      # Find the common suffix length\n",
        "      common_suffix_length = 0\n",
        "      for i in range(1, min(len(words1), len(words2)) + 1):\n",
        "          if words1[-i] == words2[-i]:\n",
        "              common_suffix_length = i\n",
        "          else:\n",
        "              break\n",
        "\n",
        "      # Combine sentences with newline if no common suffix\n",
        "      if common_suffix_length == 0:\n",
        "          combined_sentence = sentence1 + '\\n' + sentence2\n",
        "      else:\n",
        "          combined_sentence = ' '.join(words1 + words2[:-common_suffix_length])\n",
        "\n",
        "      return combined_sentence\n",
        "\n",
        "\n",
        "    @staticmethod\n",
        "    def read_header(header_path):\n",
        "      folder_dir = header_path\n",
        "      header = \"\"\n",
        "\n",
        "      for images in os.listdir(folder_dir):\n",
        "        if(images.endswith('.jpg')):\n",
        "          temp_path = header_path + images\n",
        "          temp = TextExtractor.tesseract_read(temp_path)\n",
        "          temp = temp.replace('\\n', \" \")\n",
        "          # header += temp\n",
        "          header = TextExtractor.combine_sentences(header, temp)\n",
        "\n",
        "        # header += '\\n'\n",
        "        # header = header.replace('\\n', ' ')\n",
        "      return header\n",
        "\n",
        "    @staticmethod\n",
        "    def read_article(img_path):\n",
        "        article = TextExtractor.tesseract_read(img_path)\n",
        "        article = article.replace('\\n', \" \")\n",
        "        article = article.replace(\"\\n\\n\", \"\\n\")\n",
        "        article = article.replace(\"-\\n\", \"\")\n",
        "        return article\n",
        "\n",
        "    @staticmethod\n",
        "    def tesseract_read(img_path):\n",
        "        info = ps.image_to_string(Image.open(img_path))\n",
        "        return info\n",
        "\n",
        "class FileHandler:\n",
        "    @staticmethod\n",
        "    def get_name(path):\n",
        "        image_name = os.path.basename(path)\n",
        "        return image_name\n",
        "\n",
        "    @staticmethod\n",
        "    def save_content(folder_path, file_name, content):\n",
        "        file_path = os.path.join(folder_path, file_name)\n",
        "        with open(file_path, \"w\") as file:\n",
        "            file.write(content)\n",
        "        print(f\"Content saved to {file_path}\")\n",
        "\n",
        "    @staticmethod\n",
        "    def create_directory(directory_path):\n",
        "        try:\n",
        "            os.mkdir(directory_path)\n",
        "        except FileExistsError:\n",
        "            print(\"Directory already exists\")\n",
        "\n",
        "    @staticmethod\n",
        "    def delete_directory(directory_path):\n",
        "        try:\n",
        "            shutil.rmtree(directory_path)\n",
        "        except Exception as e:\n",
        "            print(f\"Error occurred while deleting directory: {e}\")\n",
        "\n",
        "    @staticmethod\n",
        "    def delete_runs_dir():\n",
        "      path = \"/content/runs\"\n",
        "      try:\n",
        "        shutil.rmtree(path)\n",
        "        print(\"deleted runs\")\n",
        "      except:\n",
        "        print(\"Error occured while deleting runs\")\n",
        "\n",
        "\n",
        "def execute():\n",
        "    img_path = input(\"Enter image path: \")\n",
        "    model_path = \"/content/gdrive/MyDrive/Impact_OCR/training_results/train5/weights/best.pt\"\n",
        "\n",
        "    image_name = FileHandler.get_name(img_path)\n",
        "\n",
        "    ocr_processor = OCRProcessor(model_path)\n",
        "    ocr_processor.yolo_ocr(img_path)\n",
        "\n",
        "    headline = TextExtractor.read_header(f\"/content/runs/detect/predict/crops/headlines/\")\n",
        "    # headline = TextExtractor.read_header(f\"/content/runs/detect/predict/crops/headlines/{image_name}\")\n",
        "    article_body = TextExtractor.read_article(img_path)\n",
        "\n",
        "    # FileHandler.delete_runs_dir()\n",
        "\n",
        "    output_directory = f\"/content/gdrive/MyDrive/Impact_OCR/output/test_images/{image_name[:-3]}\"\n",
        "    FileHandler.create_directory(output_directory)\n",
        "\n",
        "    FileHandler.save_content(output_directory, \"headline.txt\", headline)\n",
        "    FileHandler.save_content(output_directory, \"article.txt\", article_body)\n",
        "\n",
        "    print(\"Execution completed.\")\n",
        "\n",
        "if __name__ == \"__main__\":\n",
        "    execute()\n"
      ],
      "metadata": {
        "colab": {
          "base_uri": "https://localhost:8080/"
        },
        "id": "QXBC7niLgQn-",
        "outputId": "58d2ad82-a787-46a1-d172-ee3bf27e93eb"
      },
      "execution_count": null,
      "outputs": [
        {
          "name": "stdout",
          "output_type": "stream",
          "text": [
            "Enter image path: 5.jpg\n"
          ]
        },
        {
          "output_type": "stream",
          "name": "stderr",
          "text": [
            "Ultralytics YOLOv8.0.20 🚀 Python-3.10.12 torch-2.0.1+cu118 CPU\n",
            "Model summary (fused): 168 layers, 11126745 parameters, 0 gradients, 28.4 GFLOPs\n",
            "To copy construct from a tensor, it is recommended to use sourceTensor.clone().detach() or sourceTensor.clone().detach().requires_grad_(True), rather than torch.tensor(sourceTensor).\n",
            "Results saved to \u001b[1mruns/detect/predict\u001b[0m\n",
            "1 label saved to runs/detect/predict/labels\n"
          ]
        },
        {
          "output_type": "stream",
          "name": "stdout",
          "text": [
            "Directory already exists\n",
            "Content saved to /content/gdrive/MyDrive/Impact_OCR/output/test_images/5./headline.txt\n",
            "Content saved to /content/gdrive/MyDrive/Impact_OCR/output/test_images/5./article.txt\n",
            "Execution completed.\n"
          ]
        }
      ]
    },
    {
      "cell_type": "code",
      "source": [
        "FileHandler.delete_runs_dir()"
      ],
      "metadata": {
        "colab": {
          "base_uri": "https://localhost:8080/"
        },
        "id": "Ydj7lpApz2dz",
        "outputId": "39764d82-f923-4af7-d5db-d592998bccb0"
      },
      "execution_count": null,
      "outputs": [
        {
          "output_type": "stream",
          "name": "stdout",
          "text": [
            "deleted runs\n"
          ]
        }
      ]
    },
    {
      "cell_type": "code",
      "source": [],
      "metadata": {
        "id": "h7Mdns_P1nQT"
      },
      "execution_count": null,
      "outputs": []
    }
  ],
  "metadata": {
    "colab": {
      "collapsed_sections": [
        "UhWYKIsf7KQk",
        "Zw_3SfTe7UxF",
        "0ve_PM3czm6K",
        "pmfaEX-H7hLM",
        "NgDVJ7tP7kUS",
        "JhEfZxRRPavn",
        "e6WjACb2jf6T"
      ],
      "provenance": [],
      "authorship_tag": "ABX9TyOeMkowgKR7aw6aG6zorru4",
      "include_colab_link": true
    },
    "kernelspec": {
      "display_name": "Python 3",
      "name": "python3"
    },
    "language_info": {
      "name": "python"
    }
  },
  "nbformat": 4,
  "nbformat_minor": 0
}